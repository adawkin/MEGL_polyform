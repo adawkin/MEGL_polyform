{
 "cells": [
  {
   "cell_type": "code",
   "execution_count": 22,
   "id": "b9ae7b9d",
   "metadata": {},
   "outputs": [],
   "source": [
    "import numpy as np"
   ]
  },
  {
   "cell_type": "code",
   "execution_count": 23,
   "id": "bf7c804f",
   "metadata": {},
   "outputs": [],
   "source": [
    "mino_3 = {0:\"A\",\n",
    "         1:\"B\",\n",
    "         2:\"C\",\n",
    "         3:\"D\",\n",
    "         4:\"E\",\n",
    "         5:\"F\"}\n",
    "\n",
    "\n",
    "transitions = np.array([[5/9, 0, 1/9, 1/9, 1/9, 1/9], \n",
    "              [0, 5/9, 1/9, 1/9, 1/9, 1/9],\n",
    "              [1/9, 1/9, 7/18, 1/9, 1/9, 1/6],\n",
    "              [1/9, 1/9, 1/9, 7/18, 1/6, 1/9],\n",
    "              [1/9, 1/9, 1/9, 1/6, 7/18, 1/9],\n",
    "              [1/9, 1/9, 1/6, 1/9, 1/9, 7/18]])"
   ]
  },
  {
   "cell_type": "code",
   "execution_count": 24,
   "id": "c84fb2a7",
   "metadata": {
    "scrolled": true
   },
   "outputs": [
    {
     "name": "stdout",
     "output_type": "stream",
     "text": [
      "A -> A -> E -> F -> A -> E -> A -> F -> A -> A -> A -> D -> A -> A -> A -> end\n"
     ]
    }
   ],
   "source": [
    "n = 15\n",
    "start_mino = 0\n",
    "print(mino_3[start_mino], \"->\", end =\" \")\n",
    "prev_mino = start_mino\n",
    "\n",
    "while n-1:\n",
    "    curr_mino = np.random.choice([0, 1, 2, 3, 4, 5], p=transitions[prev_mino])\n",
    "    print(mino_3[curr_mino], \"->\", end =\" \")\n",
    "    n -= 1\n",
    "    \n",
    "print(\"end\")"
   ]
  },
  {
   "cell_type": "code",
   "execution_count": 39,
   "id": "d163e84a",
   "metadata": {},
   "outputs": [
    {
     "name": "stdout",
     "output_type": "stream",
     "text": [
      "Prob =  [0.1735 0.1596 0.1657 0.1657 0.1654 0.1702]\n"
     ]
    }
   ],
   "source": [
    "steps = 10000\n",
    "start_mino = 0\n",
    "prob = np.array([0, 0, 0, 0, 0, 0])\n",
    "prob[start_mino] = 1\n",
    "prev_mino = start_mino\n",
    "random_walk = []\n",
    "\n",
    "\n",
    "i = 0\n",
    "while i < steps:\n",
    "    curr_mino = np.random.choice([0, 1, 2, 3, 4, 5], p=transitions[prev_mino])\n",
    "    prob[curr_mino] += 1\n",
    "    random_walk.append(curr_mino)\n",
    "    prev_mino = curr_mino\n",
    "    i += 1\n",
    "    \n",
    "print(\"Prob = \", prob/steps)"
   ]
  },
  {
   "cell_type": "code",
   "execution_count": 45,
   "id": "27cf04a9",
   "metadata": {},
   "outputs": [
    {
     "name": "stdout",
     "output_type": "stream",
     "text": [
      "[0, 0, 5, 5, 2, 2, 2, 3, 3, 3]\n"
     ]
    }
   ],
   "source": [
    "print(random_walk[0:10])"
   ]
  },
  {
   "cell_type": "code",
   "execution_count": 41,
   "id": "f0e0ce18",
   "metadata": {},
   "outputs": [
    {
     "name": "stdout",
     "output_type": "stream",
     "text": [
      "Prob =  [0.16666667 0.16666667 0.16666667 0.16666667 0.16666667 0.16666667]\n"
     ]
    }
   ],
   "source": [
    "steps = 10000\n",
    "transitions_n = transitions\n",
    "\n",
    "i = 0\n",
    "\n",
    "while i < steps:\n",
    "    transitions_n = np.matmul(transitions_n, transitions)\n",
    "    i += 1\n",
    "    \n",
    "print(\"Prob = \", transitions_n[0])"
   ]
  },
  {
   "cell_type": "code",
   "execution_count": null,
   "id": "7cbeba23",
   "metadata": {},
   "outputs": [],
   "source": []
  }
 ],
 "metadata": {
  "kernelspec": {
   "display_name": "Python 3 (ipykernel)",
   "language": "python",
   "name": "python3"
  },
  "language_info": {
   "codemirror_mode": {
    "name": "ipython",
    "version": 3
   },
   "file_extension": ".py",
   "mimetype": "text/x-python",
   "name": "python",
   "nbconvert_exporter": "python",
   "pygments_lexer": "ipython3",
   "version": "3.9.7"
  }
 },
 "nbformat": 4,
 "nbformat_minor": 5
}

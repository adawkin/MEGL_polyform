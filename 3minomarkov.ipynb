{
 "cells": [
  {
   "cell_type": "code",
   "execution_count": 53,
   "id": "d03b4ded",
   "metadata": {},
   "outputs": [
    {
     "name": "stdout",
     "output_type": "stream",
     "text": [
      "Pretty printing has been turned OFF\n"
     ]
    }
   ],
   "source": [
    " %pprint"
   ]
  },
  {
   "cell_type": "code",
   "execution_count": 56,
   "id": "b9ae7b9d",
   "metadata": {},
   "outputs": [],
   "source": [
    "import numpy as np\n",
    "import pandas as pd\n",
    "import matplotlib.pyplot as plt\n",
    "from collections import Counter"
   ]
  },
  {
   "cell_type": "code",
   "execution_count": 3,
   "id": "bf7c804f",
   "metadata": {},
   "outputs": [],
   "source": [
    "mino_3 = {0:\"A\",\n",
    "         1:\"B\",\n",
    "         2:\"C\",\n",
    "         3:\"D\",\n",
    "         4:\"E\",\n",
    "         5:\"F\"}\n",
    "\n",
    "\n",
    "transitions = np.array([[5/9, 0, 1/9, 1/9, 1/9, 1/9], \n",
    "              [0, 5/9, 1/9, 1/9, 1/9, 1/9],\n",
    "              [1/9, 1/9, 7/18, 1/9, 1/9, 1/6],\n",
    "              [1/9, 1/9, 1/9, 7/18, 1/6, 1/9],\n",
    "              [1/9, 1/9, 1/9, 1/6, 7/18, 1/9],\n",
    "              [1/9, 1/9, 1/6, 1/9, 1/9, 7/18]])"
   ]
  },
  {
   "cell_type": "code",
   "execution_count": 79,
   "id": "c84fb2a7",
   "metadata": {
    "scrolled": true
   },
   "outputs": [
    {
     "name": "stdout",
     "output_type": "stream",
     "text": [
      "A -> A -> C -> A -> A -> A -> E -> F -> C -> A -> A -> A -> E -> E -> A -> end\n"
     ]
    }
   ],
   "source": [
    "n = 15\n",
    "start_mino = 0\n",
    "print(mino_3[start_mino], \"->\", end =\" \")\n",
    "prev_mino = start_mino\n",
    "\n",
    "while n-1:\n",
    "    curr_mino = np.random.choice([0, 1, 2, 3, 4, 5], p=transitions[prev_mino])\n",
    "    print(mino_3[curr_mino], \"->\", end =\" \")\n",
    "    n -= 1\n",
    "    \n",
    "print(\"end\")"
   ]
  },
  {
   "cell_type": "code",
   "execution_count": 80,
   "id": "d163e84a",
   "metadata": {},
   "outputs": [
    {
     "name": "stdout",
     "output_type": "stream",
     "text": [
      "Prob =  [0.168 0.174 0.149 0.168 0.173 0.169]\n"
     ]
    }
   ],
   "source": [
    "steps = 1000\n",
    "start_mino = 0\n",
    "prob = np.array([0, 0, 0, 0, 0, 0])\n",
    "prob[start_mino] = 1\n",
    "prev_mino = start_mino\n",
    "\n",
    "\n",
    "i = 0\n",
    "while i < steps:\n",
    "    curr_mino = np.random.choice([0, 1, 2, 3, 4, 5], p=transitions[prev_mino])\n",
    "    prob[curr_mino] += 1\n",
    "    prev_mino = curr_mino\n",
    "    i += 1\n",
    "    \n",
    "print(\"Prob = \", prob/steps)"
   ]
  },
  {
   "cell_type": "code",
   "execution_count": 81,
   "id": "f0e0ce18",
   "metadata": {},
   "outputs": [
    {
     "name": "stdout",
     "output_type": "stream",
     "text": [
      "Prob =  [0.16666667 0.16666667 0.16666667 0.16666667 0.16666667 0.16666667]\n"
     ]
    }
   ],
   "source": [
    "steps = 10000\n",
    "transitions_n = transitions\n",
    "\n",
    "i = 0\n",
    "\n",
    "while i < steps:\n",
    "    transitions_n = np.matmul(transitions_n, transitions)\n",
    "    i += 1\n",
    "    \n",
    "print(\"Prob = \", transitions_n[0])"
   ]
  },
  {
   "cell_type": "code",
   "execution_count": 67,
   "id": "2df395cc",
   "metadata": {
    "scrolled": true
   },
   "outputs": [],
   "source": [
    "def end_mino(start, steps):\n",
    "    \n",
    "    n = steps\n",
    "    start_mino = start\n",
    "    prev_mino = start_mino\n",
    "\n",
    "    while n-1:\n",
    "        curr_mino = np.random.choice([0, 1, 2, 3, 4, 5], p=transitions[prev_mino])\n",
    "        prev_mino = curr_mino\n",
    "        n -= 1\n",
    "    \n",
    "    return mino_3[curr_mino]"
   ]
  },
  {
   "cell_type": "code",
   "execution_count": 68,
   "id": "fc161cff",
   "metadata": {},
   "outputs": [],
   "source": [
    "def mino_sim(start, steps, sims):\n",
    "    list_mino = []\n",
    "    for i in range(1, sims):\n",
    "        list_mino.append(end_mino(start, steps))\n",
    "        \n",
    "    return list_mino"
   ]
  },
  {
   "cell_type": "code",
   "execution_count": 70,
   "id": "7d354917",
   "metadata": {},
   "outputs": [],
   "source": [
    "mino_3_list = [\"A\", \"B\", \"C\", \"D\", \"E\", \"F\"]\n",
    "mino_count = [0] * len(mino_3_list)"
   ]
  },
  {
   "cell_type": "code",
   "execution_count": 71,
   "id": "7cbeba23",
   "metadata": {},
   "outputs": [
    {
     "data": {
      "text/plain": [
       "<AxesSubplot:>"
      ]
     },
     "execution_count": 71,
     "metadata": {},
     "output_type": "execute_result"
    },
    {
     "data": {
      "image/png": "[encoded data removed]",
      "text/plain": [
       "<Figure size 432x288 with 1 Axes>"
      ]
     },
     "metadata": {
      "needs_background": "light"
     },
     "output_type": "display_data"
    }
   ],
   "source": [
    "hist_1 = mino_sim(0, 2, 1000)\n",
    "hist_1_dict = dict(zip(mino_3_list, mino_count))\n",
    "hist_1_dict.update(Counter(hist_1))\n",
    "\n",
    "hist_1_df = pd.DataFrame.from_dict(hist_1_dict, orient = \"index\")\n",
    "hist_1_df.plot(kind = \"bar\", legend = False)"
   ]
  },
  {
   "cell_type": "code",
   "execution_count": 72,
   "id": "66e020ee",
   "metadata": {},
   "outputs": [
    {
     "data": {
      "text/plain": [
       "<AxesSubplot:>"
      ]
     },
     "execution_count": 72,
     "metadata": {},
     "output_type": "execute_result"
    },
    {
     "data": {
      "image/png": "[encoded data removed]",
      "text/plain": [
       "<Figure size 432x288 with 1 Axes>"
      ]
     },
     "metadata": {
      "needs_background": "light"
     },
     "output_type": "display_data"
    }
   ],
   "source": [
    "hist_10 = mino_sim(0, 11, 1000)\n",
    "hist_10_dict = dict(zip(mino_3_list, mino_count))\n",
    "hist_10_dict.update(Counter(hist_10))\n",
    "\n",
    "hist_10_df = pd.DataFrame.from_dict(hist_10_dict, orient = \"index\")\n",
    "hist_10_df.plot(kind = \"bar\", legend = False)"
   ]
  },
  {
   "cell_type": "code",
   "execution_count": 73,
   "id": "81863f8b",
   "metadata": {},
   "outputs": [
    {
     "data": {
      "text/plain": [
       "<AxesSubplot:>"
      ]
     },
     "execution_count": 73,
     "metadata": {},
     "output_type": "execute_result"
    },
    {
     "data": {
      "image/png": "[encoded data removed]",
      "text/plain": [
       "<Figure size 432x288 with 1 Axes>"
      ]
     },
     "metadata": {
      "needs_background": "light"
     },
     "output_type": "display_data"
    }
   ],
   "source": [
    "hist_100 = mino_sim(0, 101, 1000)\n",
    "hist_100_dict = dict(zip(mino_3_list, mino_count))\n",
    "hist_100_dict.update(Counter(hist_100))\n",
    "\n",
    "hist_100_df = pd.DataFrame.from_dict(hist_100_dict, orient = \"index\")\n",
    "hist_100_df.plot(kind = \"bar\", legend = False)"
   ]
  },
  {
   "cell_type": "code",
   "execution_count": 74,
   "id": "57d0ec0a",
   "metadata": {},
   "outputs": [
    {
     "data": {
      "text/plain": [
       "<AxesSubplot:>"
      ]
     },
     "execution_count": 74,
     "metadata": {},
     "output_type": "execute_result"
    },
    {
     "data": {
      "image/png": "[encoded data removed]",
      "text/plain": [
       "<Figure size 432x288 with 1 Axes>"
      ]
     },
     "metadata": {
      "needs_background": "light"
     },
     "output_type": "display_data"
    }
   ],
   "source": [
    "hist_1000 = mino_sim(0, 1001, 1000)\n",
    "hist_1000_dict = dict(zip(mino_3_list, mino_count))\n",
    "hist_1000_dict.update(Counter(hist_1000))\n",
    "\n",
    "hist_1000_df = pd.DataFrame.from_dict(hist_1000_dict, orient = \"index\")\n",
    "hist_1000_df.plot(kind = \"bar\", legend = False)"
   ]
  },
  {
   "cell_type": "code",
   "execution_count": 76,
   "id": "776dc0f0",
   "metadata": {},
   "outputs": [
    {
     "data": {
      "text/plain": [
       "<AxesSubplot:>"
      ]
     },
     "execution_count": 76,
     "metadata": {},
     "output_type": "execute_result"
    },
    {
     "data": {
      "image/png": "[encoded data removed]",
      "text/plain": [
       "<Figure size 432x288 with 1 Axes>"
      ]
     },
     "metadata": {
      "needs_background": "light"
     },
     "output_type": "display_data"
    }
   ],
   "source": [
    "hist_10000 = mino_sim(0, 10001, 1000)\n",
    "hist_10000_dict = dict(zip(mino_3_list, mino_count))\n",
    "hist_10000_dict.update(Counter(hist_10000))\n",
    "\n",
    "hist_10000_df = pd.DataFrame.from_dict(hist_10000_dict, orient = \"index\")\n",
    "hist_10000_df.plot(kind = \"bar\", legend = False)"
   ]
  },
  {
   "cell_type": "code",
   "execution_count": null,
   "id": "21348989",
   "metadata": {},
   "outputs": [],
   "source": []
  }
 ],
 "metadata": {
  "kernelspec": {
   "display_name": "Python 3 (ipykernel)",
   "language": "python",
   "name": "python3"
  },
  "language_info": {
   "codemirror_mode": {
    "name": "ipython",
    "version": 3
   },
   "file_extension": ".py",
   "mimetype": "text/x-python",
   "name": "python",
   "nbconvert_exporter": "python",
   "pygments_lexer": "ipython3",
   "version": "3.9.7"
  }
 },
 "nbformat": 4,
 "nbformat_minor": 5
}
